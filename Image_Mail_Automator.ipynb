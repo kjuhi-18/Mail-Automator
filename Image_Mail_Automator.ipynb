{
  "nbformat": 4,
  "nbformat_minor": 0,
  "metadata": {
    "colab": {
      "provenance": []
    },
    "kernelspec": {
      "name": "python3",
      "display_name": "Python 3"
    },
    "language_info": {
      "name": "python"
    }
  },
  "cells": [
    {
      "cell_type": "code",
      "execution_count": null,
      "metadata": {
        "colab": {
          "base_uri": "https://localhost:8080/"
        },
        "id": "ceMdjcNtoTHc",
        "outputId": "9dfed990-bec8-488a-9634-293cb8fa14b5"
      },
      "outputs": [
        {
          "output_type": "stream",
          "name": "stdout",
          "text": [
            "[✓] Sent to suman.dey.btech2025@sitpune.edu.in with image 1.jpg\n",
            "[✓] Sent to hyperninja0001@gmail.com with image 2.jpg\n",
            "[✓] Sent to sarthakbhattacharjee01@gmail.com with image 3.jpg\n",
            "[✓] Sent to madhavagrawal953@gmail.com with image 4.jpg\n",
            "[✓] Sent to vibhuti.patil.btech2025@sitpune.edu.in with image 5.jpg\n",
            "[✓] Sent to quantumquill314@gmail.com with image 6.jpg\n",
            "[✓] Sent to uddish.agarwal.btech2025@sitpune.edu.in with image 7.jpg\n",
            "[✓] Sent to kanavkrishan28@gmail.com with image 8.jpg\n",
            "[✓] Sent to deshmukhprathmeshn1877@gmail.com with image 9.jpg\n",
            "[✓] Sent to sangambhargava07@gmail.com with image 10.jpg\n",
            "[✓] Sent to aryan.makadia.btech2025@sitpune.edu.in with image 11.jpg\n",
            "[✓] Sent to dharmitshah2007@gmail.com with image 12.jpg\n",
            "[✓] Sent to anirbansahana3070@gmail.com with image 13.jpg\n",
            "[✓] Sent to sahil.sharma.btech2025@sitpune.edu.in with image 14.jpg\n",
            "[✓] Sent to jiya.jiya.btech2025@sitpune.edu.in with image 15.jpg\n",
            "[✓] Sent to varunveer.singh.btech2025@sitpune.edu.in with image 16.jpg\n",
            "[✓] Sent to kevaljatakia2007@gmail.com with image 17.jpg\n",
            "[✓] Sent to patnana.mokshit.btech2025@sitpune.edu.in with image 18.jpg\n",
            "[✓] Sent to aditya.murab.btech2025@sitpune.edu.in with image 19.jpg\n",
            "[✓] Sent to shalvisukriti@gmail.com with image 20.jpg\n",
            "[✓] Sent to neil.gosalia.btech2025@sitpune.edu.in with image 21.jpg\n",
            "[✓] Sent to maahie.kadam.btech2025@sitpune.edu.in with image 22.jpg\n"
          ]
        }
      ],
      "source": [
        "import smtplib\n",
        "import ssl\n",
        "from email.message import EmailMessage\n",
        "import os\n",
        "import re\n",
        "\n",
        "sender_email = \"\"     # Your Gmail address\n",
        "app_password = \"\"     # Your 16-character App Password (not Gmail password!)\n",
        "subject = \"\"  # Email subject line\n",
        "body_text = (\n",
        "    \"Hi,\\n\\n\"\n",
        "    \"\"#body text\n",
        "    \"Regards,\\n\"\n",
        "    \"\\n\"#sender name\n",
        "\n",
        ")\n",
        "\n",
        "# Paths\n",
        "image_folder = \"\"        # Folder containing certificates\n",
        "email_list_file = \"\"  # File with recipient emails\n",
        "# -------------------------------------------------\n",
        "\n",
        "# Step 1: Load recipient email addresses\n",
        "with open(email_list_file, \"r\") as f:\n",
        "    recipients = [line.strip() for line in f.readlines() if line.strip()]\n",
        "\n",
        "# Step 2: Collect and sort image files (expects names like 1.jpg, 2.jpg, ...)\n",
        "image_files = [\n",
        "    f for f in os.listdir(image_folder)\n",
        "    if re.fullmatch(r\"\\d+\\.jpg\", f, re.IGNORECASE)  # Only numeric .jpg files\n",
        "]\n",
        "image_files = sorted(image_files, key=lambda x: int(x.split('.')[0]))\n",
        "\n",
        "# Step 3: Validate counts (must be equal: one image per email)\n",
        "if len(recipients) != len(image_files):\n",
        "    raise Exception(f\"Mismatch: {len(recipients)} emails and {len(image_files)} images.\")\n",
        "\n",
        "# Step 4: Create secure SSL context for Gmail SMTP\n",
        "context = ssl.create_default_context()\n",
        "\n",
        "# Step 5: Send personalized emails\n",
        "for i in range(len(recipients)):\n",
        "    # Create email message\n",
        "    msg = EmailMessage()\n",
        "    msg[\"Subject\"] = subject\n",
        "    msg[\"From\"] = sender_email\n",
        "    msg[\"To\"] = recipients[i]\n",
        "    msg.set_content(body_text)\n",
        "\n",
        "    # Attach corresponding image (1st email -> 1.jpg, 2nd -> 2.jpg, etc.)\n",
        "    image_path = os.path.join(image_folder, image_files[i])\n",
        "    with open(image_path, \"rb\") as img:\n",
        "        img_data = img.read()\n",
        "        msg.add_attachment(img_data, maintype=\"image\", subtype=\"jpeg\", filename=image_files[i])\n",
        "\n",
        "    # Connect to Gmail SMTP and send\n",
        "    with smtplib.SMTP_SSL(\"smtp.gmail.com\", 465, context=context) as server:\n",
        "        server.login(sender_email, app_password)\n",
        "        server.send_message(msg)\n",
        "\n",
        "    # Log progress\n",
        "    print(f\"[✓] Sent to {recipients[i]} with image {image_files[i]}\")"
      ]
    },
    {
      "cell_type": "code",
      "source": [],
      "metadata": {
        "id": "ZMwRHX9Qbz_C"
      },
      "execution_count": null,
      "outputs": []
    }
  ]
}